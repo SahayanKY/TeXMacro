{
 "cells": [
  {
   "cell_type": "code",
   "execution_count": 1,
   "id": "22b6a6c4",
   "metadata": {},
   "outputs": [],
   "source": [
    "import re\n",
    "\n",
    "import numpy as np"
   ]
  },
  {
   "cell_type": "code",
   "execution_count": 2,
   "id": "2cfac4fb",
   "metadata": {},
   "outputs": [],
   "source": [
    "bibfile = 'export.bib'\n",
    "# bibファイル読み込み\n",
    "# 改行コードを変更しない(newline='')\n",
    "with open(bibfile, mode='r', encoding='UTF-8', newline='') as f:\n",
    "    bibData = f.read()"
   ]
  },
  {
   "cell_type": "code",
   "execution_count": 3,
   "id": "5a3a1d2e",
   "metadata": {},
   "outputs": [
    {
     "data": {
      "text/plain": [
       "'@article{RefWorks:RefID:208-1965self-consistent,\\n\\tauthor={Walter Kohn and Lu Jeu Sham},\\n\\tyear={1965},\\n\\ttitle={Self-Consistent Equations Including Exchange and Correlation Effects},\\n\\tjournal={Physical Review},\\n\\tvolume={140},\\n\\tnumber={4A},\\n\\tpages={A1133},\\n\\tnote={Kohn-Sham法の原著論文},\\n\\turl={https://doi.org/10.1103/PhysRev.140.A1133},\\n\\tdoi={10.1103/PhysRev.140.A1133}\\n}\\n@book{RefWorks:RefID:207-常田貴夫2012密度汎関数法の基礎,\\n\\tauthor={常田貴夫},\\n\\tyear={2012},\\n\\tmonth={Apr},\\n\\ttitle={密度汎関数法の基礎 = Fundamentals of Density Functional Theory},\\n\\tpublisher={講談社},\\n\\taddress={Tokyo},\\n\\tedition={1},\\n\\tnote={DFTについて},\\n\\tisbn={4061532804}\\n}\\n@book{RefWorks:RefID:206-1987新しい量子化学,\\n\\tauthor={Attila Szabo and Neil S. Ostlund},\\n\\tyear={1987},\\n\\tmonth={Jul},\\n\\ttitle={新しい量子化学 : 電子構造の理論入門 上},\\n\\tpublisher={東京大学出版会},\\n\\taddress={Tokyo},\\n\\tedition={1},\\n\\tnote={Hartree-Fockに詳しい},\\n\\tisbn={4130621114}\\n}\\n@article{RefWorks:RefID:205-imai2005water,\\n\\tauthor={Takashi Imai and Ryusuke Hiraoka and Andriy Kovalenko and Fumio Hirata},\\n\\tyear={2005},\\n\\tmonth={Nov 9,'"
      ]
     },
     "execution_count": 3,
     "metadata": {},
     "output_type": "execute_result"
    }
   ],
   "source": [
    "bibData[:1000]"
   ]
  },
  {
   "cell_type": "code",
   "execution_count": 4,
   "id": "0a430a64",
   "metadata": {
    "scrolled": true
   },
   "outputs": [
    {
     "data": {
      "text/plain": [
       "'@article{RefWorks:RefID:208-1965self-consistent,author={Walter Kohn and Lu Jeu Sham},year={1965},title={Self-Consistent Equations Including Exchange and Correlation Effects},journal={Physical Review},volume={140},number={4A},pages={A1133},note={Kohn-Sham法の原著論文},url={https://doi.org/10.1103/PhysRev.140.A1133},doi={10.1103/PhysRev.140.A1133}}@book{RefWorks:RefID:207-常田貴夫2012密度汎関数法の基礎,author={常田貴夫},year={2012},month={Apr},title={密度汎関数法の基礎 = Fundamentals of Density Functional Theory},publisher={講談社},address={Tokyo},edition={1},note={DFTについて},isbn={4061532804}}@book{RefWorks:RefID:206-1987新しい量子化学,author={Attila Szabo and Neil S. Ostlund},year={1987},month={Jul},title={新しい量子化学 : 電子構造の理論入門 上},publisher={東京大学出版会},address={Tokyo},edition={1},note={Hartree-Fockに詳しい},isbn={4130621114}}@article{RefWorks:RefID:205-imai2005water,author={Takashi Imai and Ryusuke Hiraoka and Andriy Kovalenko and Fumio Hirata},year={2005},month={Nov 9,},title={Water Molecules in a Protein Cavity Detected by a Statistic'"
      ]
     },
     "execution_count": 4,
     "metadata": {},
     "output_type": "execute_result"
    }
   ],
   "source": [
    "bibData = re.sub('\\n', '', re.sub('\\t','',bibData))\n",
    "bibData[:1000]"
   ]
  },
  {
   "cell_type": "code",
   "execution_count": 5,
   "id": "56a3f947",
   "metadata": {},
   "outputs": [
    {
     "data": {
      "text/plain": [
       "[8,\n",
       " 55,\n",
       " 90,\n",
       " 103,\n",
       " 182,\n",
       " 207,\n",
       " 220,\n",
       " 231,\n",
       " 244,\n",
       " 266,\n",
       " 314,\n",
       " 347,\n",
       " 392,\n",
       " 404,\n",
       " 417,\n",
       " 429,\n",
       " 495,\n",
       " 509,\n",
       " 525,\n",
       " 534]"
      ]
     },
     "execution_count": 5,
     "metadata": {},
     "output_type": "execute_result"
    }
   ],
   "source": [
    "def findIndexes(string, obj):\n",
    "    indexList = []\n",
    "    start = 0\n",
    "    while True:\n",
    "        i = string.find(obj, start)\n",
    "        if i == -1:\n",
    "            break\n",
    "        indexList.append(i)\n",
    "        start = i+1\n",
    "    return indexList\n",
    "leftbraceIndexList = findIndexes(bibData, '{')\n",
    "rightbraceIndexList = findIndexes(bibData, '}')\n",
    "leftbraceIndexList[:20]"
   ]
  },
  {
   "cell_type": "code",
   "execution_count": 6,
   "id": "9d7128cc",
   "metadata": {},
   "outputs": [
    {
     "data": {
      "text/plain": [
       "[83,\n",
       " 95,\n",
       " 172,\n",
       " 198,\n",
       " 211,\n",
       " 223,\n",
       " 237,\n",
       " 260,\n",
       " 308,\n",
       " 340,\n",
       " 341,\n",
       " 397,\n",
       " 409,\n",
       " 421,\n",
       " 483,\n",
       " 499,\n",
       " 515,\n",
       " 527,\n",
       " 542,\n",
       " 560]"
      ]
     },
     "execution_count": 6,
     "metadata": {},
     "output_type": "execute_result"
    }
   ],
   "source": [
    "rightbraceIndexList[:20]"
   ]
  },
  {
   "cell_type": "code",
   "execution_count": 7,
   "id": "013fd669",
   "metadata": {},
   "outputs": [
    {
     "data": {
      "text/plain": [
       "array([0, 0, 0, ..., 2, 1, 0])"
      ]
     },
     "execution_count": 7,
     "metadata": {},
     "output_type": "execute_result"
    }
   ],
   "source": [
    "nestLevel = np.zeros(len(bibData), dtype=np.int32)\n",
    "for i in leftbraceIndexList:\n",
    "    nestLevel[i:] += 1\n",
    "for i in rightbraceIndexList:\n",
    "    nestLevel[i:] -= 1\n",
    "nestLevel"
   ]
  },
  {
   "cell_type": "code",
   "execution_count": 8,
   "id": "8c9e6cb7",
   "metadata": {},
   "outputs": [
    {
     "data": {
      "text/plain": [
       "array([0, 0, 0, 0, 0, 0, 0, 0, 1, 1, 1, 1, 1, 1, 1, 1, 1, 1, 1, 1])"
      ]
     },
     "execution_count": 8,
     "metadata": {},
     "output_type": "execute_result"
    }
   ],
   "source": [
    "nestLevel[:20]"
   ]
  },
  {
   "cell_type": "code",
   "execution_count": 9,
   "id": "deb467a5",
   "metadata": {},
   "outputs": [
    {
     "data": {
      "text/plain": [
       "array([   341,    561,    784,   1777,   3123,   4511,   6117,   7815,\n",
       "         9859,  12194,  12449,  12693,  13536,  13754,  14084,  16139,\n",
       "        16344,  16494,  18242,  18402,  18800,  18961,  19409,  19818,\n",
       "        20206,  21146,  21297,  21449,  23299,  24667,  25098,  26232,\n",
       "        26662,  28445,  29801,  32256,  34021,  35778,  36212,  37451,\n",
       "        38314,  39618,  41229,  43157,  44600,  46927,  47105,  47249,\n",
       "        48094,  48223,  48436,  49678,  51023,  53562,  54850,  55025,\n",
       "        56801,  58118,  60781,  62470,  62578,  64626,  66977,  69788,\n",
       "        70022,  70332,  72074,  74152,  74495,  75603,  77202,  79172,\n",
       "        79544,  81706,  83754,  85193,  85393,  86429,  88142,  88308,\n",
       "        89431,  90588,  91841,  92373,  92522,  92823,  94705,  97324,\n",
       "        99352, 101445, 103819, 104749, 105138, 105448, 105863, 106340,\n",
       "       106874, 107390, 107814, 108274, 108401, 108841, 109076, 109294,\n",
       "       109498, 110750, 111279, 111503, 113322, 113848, 114861, 115261,\n",
       "       115603, 116824, 117904, 118100, 119336, 119775, 120907, 121838,\n",
       "       122341, 122741, 123640, 124642, 127826, 128696, 131738, 133461,\n",
       "       133771, 136830, 137198, 137908, 138218, 139417, 139900, 140434,\n",
       "       141948, 143492, 145479, 147575, 147888, 149716, 151605, 153177,\n",
       "       154626, 158471, 159339, 159922, 161585, 163402, 163752, 164240,\n",
       "       164791, 165946, 166868, 168522, 171737, 174120, 176132, 177064,\n",
       "       178689, 179684, 180151, 181353, 181724, 182257, 182698, 184598])"
      ]
     },
     "execution_count": 9,
     "metadata": {},
     "output_type": "execute_result"
    }
   ],
   "source": [
    "rightbraceNestLevel = nestLevel[rightbraceIndexList]\n",
    "rightbraceRootLevelIndexList = np.array(rightbraceIndexList)[np.where(rightbraceNestLevel == 0)[0]]\n",
    "rightbraceRootLevelIndexList"
   ]
  },
  {
   "cell_type": "code",
   "execution_count": 10,
   "id": "de42c9b8",
   "metadata": {},
   "outputs": [
    {
     "name": "stdout",
     "output_type": "stream",
     "text": [
      "@article{RefWorks:RefID:208-1965self-consistent,author={Walter Kohn and Lu Jeu Sham},year={1965},title={Self-Consistent Equations Including Exchange and Correlation Effects},journal={Physical Review},volume={140},number={4A},pages={A1133},note={Kohn-Sham法の原著論文},url={https://doi.org/10.1103/PhysRev.140.A1133},doi={10.1103/PhysRev.140.A1133}}\n",
      "----------------------------\n",
      "@book{RefWorks:RefID:207-常田貴夫2012密度汎関数法の基礎,author={常田貴夫},year={2012},month={Apr},title={密度汎関数法の基礎 = Fundamentals of Density Functional Theory},publisher={講談社},address={Tokyo},edition={1},note={DFTについて},isbn={4061532804}}\n",
      "----------------------------\n",
      "@book{RefWorks:RefID:206-1987新しい量子化学,author={Attila Szabo and Neil S. Ostlund},year={1987},month={Jul},title={新しい量子化学 : 電子構造の理論入門 上},publisher={東京大学出版会},address={Tokyo},edition={1},note={Hartree-Fockに詳しい},isbn={4130621114}}\n",
      "----------------------------\n",
      "@article{RefWorks:RefID:205-imai2005water,author={Takashi Imai and Ryusuke Hiraoka and Andriy Kovalenko and Fumio Hirata},year={2005},month={Nov 9,},title={Water Molecules in a Protein Cavity Detected by a Statistical−Mechanical Theory},journal={Journal of the American Chemical Society},volume={127},number={44},pages={15334-15335},note={3D-RISMを用いたタンパク質ポケット内部の溶媒分布の解析},abstract={Four water molecules confined in a small cavity of hen egg-white lysozyme were detected by means of the three-dimensional (3D) RISM theory, a statistical−mechanical theory of molecular solutions. This is the first theoretical realization of confined molecules in a protein without making nonsense tricks, such as placing the molecules in the space a priori. Possible impacts which the result may have on biochemistry and biophysics, including the molecular recognition, enzymatic reactions, etc., are discussed.},isbn={0002-7863},url={http://dx.doi.org/10.1021/ja054434b},doi={10.1021/ja054434b},pmid={16262373}}\n",
      "----------------------------\n",
      "@article{RefWorks:RefID:204-palmer2010universal,author={David S. Palmer and Andrey I. Frolov and Ekaterina L. Ratkova and Maxim V. Fedorov},year={2010},month={Dec 15,},title={Towards a universal method for calculating hydration free energies: a 3D reference interaction site model with partial molar volume correction},journal={Journal of physics. Condensed matter},volume={22},number={49},pages={492101},note={3D-RISM/KH?による溶媒和エネルギーは実験値に対して17.3kcal/mol過大評価した。その誤差はモル体積と強い相関があることが示される},abstract={We report a simple universal method to systematically improve the accuracy of hydration free energies calculated using an integral equation theory of molecular liquids, the 3D reference interaction site model. A strong linear correlation is observed between the difference of the experimental and (uncorrected) calculated hydration free energies and the calculated partial molar volume for a data set of 185 neutral organic molecules from different chemical classes. By using the partial molar volume as a linear empirical correction to the calculated hydration free energy, we obtain predictions of hydration free energies in excellent agreement with experiment (R = 0.94, σ = 0.99 kcal mol (- 1) for a test set of 120 organic molecules).},isbn={0953-8984},url={http://iopscience.iop.org/0953-8984/22/49/492101},doi={10.1088/0953-8984/22/49/492101}}\n",
      "----------------------------\n"
     ]
    }
   ],
   "source": [
    "start = 0\n",
    "for i in range(5):\n",
    "    end = rightbraceRootLevelIndexList[i]+1\n",
    "    print(bibData[start:end])\n",
    "    print('----------------------------')\n",
    "    start = end"
   ]
  },
  {
   "cell_type": "code",
   "execution_count": 11,
   "id": "33567dc2",
   "metadata": {},
   "outputs": [
    {
     "data": {
      "text/plain": [
       "'@article{RefWorks:RefID:204-palmer2010universal,author={David S. Palmer and Andrey I. Frolov and Ekaterina L. Ratkova and Maxim V. Fedorov},year={2010},month={Dec 15,},title={Towards a universal method for calculating hydration free energies: a 3D reference interaction site model with partial molar volume correction},journal={Journal of physics. Condensed matter},volume={22},number={49},pages={492101},note={3D-RISM/KH?による溶媒和エネルギーは実験値に対して17.3kcal/mol過大評価した。その誤差はモル体積と強い相関があることが示される},abstract={We report a simple universal method to systematically improve the accuracy of hydration free energies calculated using an integral equation theory of molecular liquids, the 3D reference interaction site model. A strong linear correlation is observed between the difference of the experimental and (uncorrected) calculated hydration free energies and the calculated partial molar volume for a data set of 185 neutral organic molecules from different chemical classes. By using the partial molar volume as a linear empirical correction to the calculated hydration free energy, we obtain predictions of hydration free energies in excellent agreement with experiment (R = 0.94, σ = 0.99\\xa0kcal\\xa0mol (- 1) for a test set of 120 organic molecules).},isbn={0953-8984},url={http://iopscience.iop.org/0953-8984/22/49/492101},doi={10.1088/0953-8984/22/49/492101}}'"
      ]
     },
     "execution_count": 11,
     "metadata": {},
     "output_type": "execute_result"
    }
   ],
   "source": [
    "testbibData = bibData[1778:3124]\n",
    "testbibData"
   ]
  },
  {
   "cell_type": "code",
   "execution_count": 12,
   "id": "b5baf1ee",
   "metadata": {},
   "outputs": [
    {
     "data": {
      "text/plain": [
       "array([0, 0, 0, ..., 2, 1, 0])"
      ]
     },
     "execution_count": 12,
     "metadata": {},
     "output_type": "execute_result"
    }
   ],
   "source": [
    "testnestLevel = nestLevel[1778:3124]\n",
    "testnestLevel"
   ]
  },
  {
   "cell_type": "code",
   "execution_count": 13,
   "id": "807be11d",
   "metadata": {},
   "outputs": [
    {
     "data": {
      "text/plain": [
       "[47,\n",
       " 139,\n",
       " 151,\n",
       " 165,\n",
       " 167,\n",
       " 318,\n",
       " 365,\n",
       " 377,\n",
       " 389,\n",
       " 404,\n",
       " 485,\n",
       " 663,\n",
       " 1069,\n",
       " 1168,\n",
       " 1236,\n",
       " 1253,\n",
       " 1308]"
      ]
     },
     "execution_count": 13,
     "metadata": {},
     "output_type": "execute_result"
    }
   ],
   "source": [
    "colonIndexList = findIndexes(testbibData, ',')\n",
    "colonIndexList"
   ]
  },
  {
   "cell_type": "code",
   "execution_count": 14,
   "id": "cee09584",
   "metadata": {},
   "outputs": [
    {
     "data": {
      "text/plain": [
       "array([  47,  139,  151,  167,  318,  365,  377,  389,  404,  485, 1236,\n",
       "       1253, 1308])"
      ]
     },
     "execution_count": 14,
     "metadata": {},
     "output_type": "execute_result"
    }
   ],
   "source": [
    "newlinecolonIndexList = np.array(colonIndexList)[np.where(testnestLevel[colonIndexList] == 1)[0]]\n",
    "newlinecolonIndexList"
   ]
  },
  {
   "cell_type": "code",
   "execution_count": 15,
   "id": "cd248ba9",
   "metadata": {},
   "outputs": [
    {
     "name": "stdout",
     "output_type": "stream",
     "text": [
      "@article{RefWorks:RefID:204-palmer2010universal,\n",
      "author={David S. Palmer and Andrey I. Frolov and Ekaterina L. Ratkova and Maxim V. Fedorov},\n",
      "year={2010},\n",
      "month={Dec 15,},\n",
      "title={Towards a universal method for calculating hydration free energies: a 3D reference interaction site model with partial molar volume correction},\n",
      "journal={Journal of physics. Condensed matter},\n",
      "volume={22},\n",
      "number={49},\n",
      "pages={492101},\n",
      "note={3D-RISM/KH?による溶媒和エネルギーは実験値に対して17.3kcal/mol過大評価した。その誤差はモル体積と強い相関があることが示される},\n",
      "abstract={We report a simple universal method to systematically improve the accuracy of hydration free energies calculated using an integral equation theory of molecular liquids, the 3D reference interaction site model. A strong linear correlation is observed between the difference of the experimental and (uncorrected) calculated hydration free energies and the calculated partial molar volume for a data set of 185 neutral organic molecules from different chemical classes. By using the partial molar volume as a linear empirical correction to the calculated hydration free energy, we obtain predictions of hydration free energies in excellent agreement with experiment (R = 0.94, σ = 0.99 kcal mol (- 1) for a test set of 120 organic molecules).},\n",
      "isbn={0953-8984},\n",
      "url={http://iopscience.iop.org/0953-8984/22/49/492101},\n",
      "doi={10.1088/0953-8984/22/49/492101}}\n"
     ]
    }
   ],
   "source": [
    "start = 0\n",
    "for end in newlinecolonIndexList:\n",
    "    end += 1\n",
    "    print(testbibData[start:end])\n",
    "    start = end\n",
    "print(testbibData[end:])"
   ]
  },
  {
   "cell_type": "code",
   "execution_count": 16,
   "id": "fba06b10",
   "metadata": {},
   "outputs": [
    {
     "data": {
      "text/plain": [
       "['@article{RefWorks:RefID:204-palmer2010universal',\n",
       " 'author={David S. Palmer and Andrey I. Frolov and Ekaterina L. Ratkova and Maxim V. Fedorov}',\n",
       " 'year={2010}',\n",
       " 'month={Dec 15,}',\n",
       " 'title={Towards a universal method for calculating hydration free energies: a 3D reference interaction site model with partial molar volume correction}',\n",
       " 'journal={Journal of physics. Condensed matter}',\n",
       " 'volume={22}',\n",
       " 'number={49}',\n",
       " 'pages={492101}',\n",
       " 'note={3D-RISM/KH?による溶媒和エネルギーは実験値に対して17.3kcal/mol過大評価した。その誤差はモル体積と強い相関があることが示される}',\n",
       " 'abstract={We report a simple universal method to systematically improve the accuracy of hydration free energies calculated using an integral equation theory of molecular liquids, the 3D reference interaction site model. A strong linear correlation is observed between the difference of the experimental and (uncorrected) calculated hydration free energies and the calculated partial molar volume for a data set of 185 neutral organic molecules from different chemical classes. By using the partial molar volume as a linear empirical correction to the calculated hydration free energy, we obtain predictions of hydration free energies in excellent agreement with experiment (R = 0.94, σ = 0.99\\xa0kcal\\xa0mol (- 1) for a test set of 120 organic molecules).}',\n",
       " 'isbn={0953-8984}',\n",
       " 'url={http://iopscience.iop.org/0953-8984/22/49/492101}',\n",
       " 'doi={10.1088/0953-8984/22/49/492101}']"
      ]
     },
     "execution_count": 16,
     "metadata": {},
     "output_type": "execute_result"
    }
   ],
   "source": [
    "dataline = []\n",
    "start = 0\n",
    "for end in newlinecolonIndexList:\n",
    "    dataline.append(testbibData[start:end])\n",
    "    start = end + 1 \n",
    "dataline.append(testbibData[start:-1])\n",
    "# start と -1が同じ位置になる場合(***},}等、最後に不正に','が入っていた場合、空文字になる)\n",
    "# -> 後で取り除く(dataline分割よりも先に取り除いてもいいかも)\n",
    "dataline"
   ]
  },
  {
   "cell_type": "code",
   "execution_count": 17,
   "id": "f0947698",
   "metadata": {},
   "outputs": [
    {
     "data": {
      "text/plain": [
       "'abstract'"
      ]
     },
     "execution_count": 17,
     "metadata": {},
     "output_type": "execute_result"
    }
   ],
   "source": [
    "key, item = dataline[10].split('=', 1)\n",
    "key"
   ]
  },
  {
   "cell_type": "code",
   "execution_count": 18,
   "id": "344491ef",
   "metadata": {},
   "outputs": [
    {
     "data": {
      "text/plain": [
       "'{We report a simple universal method to systematically improve the accuracy of hydration free energies calculated using an integral equation theory of molecular liquids, the 3D reference interaction site model. A strong linear correlation is observed between the difference of the experimental and (uncorrected) calculated hydration free energies and the calculated partial molar volume for a data set of 185 neutral organic molecules from different chemical classes. By using the partial molar volume as a linear empirical correction to the calculated hydration free energy, we obtain predictions of hydration free energies in excellent agreement with experiment (R = 0.94, σ = 0.99\\xa0kcal\\xa0mol (- 1) for a test set of 120 organic molecules).}'"
      ]
     },
     "execution_count": 18,
     "metadata": {},
     "output_type": "execute_result"
    }
   ],
   "source": [
    "item"
   ]
  },
  {
   "cell_type": "code",
   "execution_count": null,
   "id": "b9cf873b",
   "metadata": {},
   "outputs": [],
   "source": []
  }
 ],
 "metadata": {
  "kernelspec": {
   "display_name": "Environment (conda_rdkit-env)",
   "language": "python",
   "name": "conda_rdkit-env"
  },
  "language_info": {
   "codemirror_mode": {
    "name": "ipython",
    "version": 3
   },
   "file_extension": ".py",
   "mimetype": "text/x-python",
   "name": "python",
   "nbconvert_exporter": "python",
   "pygments_lexer": "ipython3",
   "version": "3.8.8"
  }
 },
 "nbformat": 4,
 "nbformat_minor": 5
}
