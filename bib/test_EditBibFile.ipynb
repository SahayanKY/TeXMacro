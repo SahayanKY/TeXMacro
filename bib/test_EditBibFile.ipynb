{
 "cells": [
  {
   "cell_type": "code",
   "execution_count": 1,
   "id": "22b6a6c4",
   "metadata": {},
   "outputs": [],
   "source": [
    "import re\n",
    "\n",
    "import numpy as np"
   ]
  },
  {
   "cell_type": "code",
   "execution_count": 2,
   "id": "2cfac4fb",
   "metadata": {},
   "outputs": [],
   "source": [
    "bibfile = 'export.bib'\n",
    "# bibファイル読み込み\n",
    "# 改行コードを変更しない(newline='')\n",
    "with open(bibfile, mode='r', encoding='UTF-8', newline='') as f:\n",
    "    bibData = f.read()"
   ]
  },
  {
   "cell_type": "code",
   "execution_count": 3,
   "id": "5a3a1d2e",
   "metadata": {},
   "outputs": [
    {
     "data": {
      "text/plain": [
       "'@article{RefWorks:RefID:170-isegawa2016ionization,\\r\\n\\tauthor={Miho Isegawa and Frank Neese and Dimitrios A. Pantazis},\\r\\n\\tyear={2016},\\r\\n\\tmonth={May 10,},\\r\\n\\ttitle={Ionization Energies and Aqueous Redox Potentials of Organic Molecules: Comparison of DFT, Correlated ab Initio Theory and Pair Natural Orbital Approaches},\\r\\n\\tjournal={Journal of chemical theory and computation},\\r\\n\\tvolume={12},\\r\\n\\tnumber={5},\\r\\n\\tpages={2272-2284},\\r\\n\\tisbn={1549-9618},\\r\\n\\turl={http://dx.doi.org/10.1021/acs.jctc.6b00252},\\r\\n\\tdoi={10.1021/acs.jctc.6b00252},\\r\\n\\tpmid={27065224},    \\r\\n}\\r\\n@article{RefWorks:RefID:169-boruah2017assessment,\\r\\n\\tauthor={Abhijit Boruah and Manash Protim Borpuzari and Yukio Kawashima and Kimihiko Hirao and Rahul Kar},\\r\\n\\tyear={2017},\\r\\n\\tmonth={Apr 28,},\\r\\n\\ttitle={Assessment of range-separated functionals in the presence of implicit solvent: Computation of oxidation energy, reduction energy, and orbital energy},\\r\\n\\tjournal={The Journal of chemical physics},\\r\\n\\tvolume={146},\\r\\n\\tnumber={16},\\r\\n\\tpages={164102}'"
      ]
     },
     "execution_count": 3,
     "metadata": {},
     "output_type": "execute_result"
    }
   ],
   "source": [
    "bibData[:1000]"
   ]
  },
  {
   "cell_type": "code",
   "execution_count": 4,
   "id": "0a430a64",
   "metadata": {
    "scrolled": true
   },
   "outputs": [
    {
     "data": {
      "text/plain": [
       "'@article{RefWorks:RefID:170-isegawa2016ionization,author={Miho Isegawa and Frank Neese and Dimitrios A. Pantazis},year={2016},month={May 10,},title={Ionization Energies and Aqueous Redox Potentials of Organic Molecules: Comparison of DFT, Correlated ab Initio Theory and Pair Natural Orbital Approaches},journal={Journal of chemical theory and computation},volume={12},number={5},pages={2272-2284},isbn={1549-9618},url={http://dx.doi.org/10.1021/acs.jctc.6b00252},doi={10.1021/acs.jctc.6b00252},pmid={27065224},    }@article{RefWorks:RefID:169-boruah2017assessment,author={Abhijit Boruah and Manash Protim Borpuzari and Yukio Kawashima and Kimihiko Hirao and Rahul Kar},year={2017},month={Apr 28,},title={Assessment of range-separated functionals in the presence of implicit solvent: Computation of oxidation energy, reduction energy, and orbital energy},journal={The Journal of chemical physics},volume={146},number={16},pages={164102},isbn={0021-9606},url={http://dx.doi.org/10.1063/1.4981529},doi='"
      ]
     },
     "execution_count": 4,
     "metadata": {},
     "output_type": "execute_result"
    }
   ],
   "source": [
    "bibData = re.sub('\\r', '', re.sub('\\n', '', re.sub('\\t','',bibData)))\n",
    "bibData[:1000]"
   ]
  },
  {
   "cell_type": "code",
   "execution_count": 5,
   "id": "56a3f947",
   "metadata": {},
   "outputs": [
    {
     "data": {
      "text/plain": [
       "[8,\n",
       " 57,\n",
       " 119,\n",
       " 132,\n",
       " 148,\n",
       " 312,\n",
       " 364,\n",
       " 376,\n",
       " 386,\n",
       " 403,\n",
       " 419,\n",
       " 468,\n",
       " 500,\n",
       " 524,\n",
       " 572,\n",
       " 675,\n",
       " 688,\n",
       " 704,\n",
       " 863,\n",
       " 904]"
      ]
     },
     "execution_count": 5,
     "metadata": {},
     "output_type": "execute_result"
    }
   ],
   "source": [
    "def findIndexes(string, obj):\n",
    "    indexList = []\n",
    "    start = 0\n",
    "    while True:\n",
    "        i = string.find(obj, start)\n",
    "        if i == -1:\n",
    "            break\n",
    "        indexList.append(i)\n",
    "        start = i+1\n",
    "    return indexList\n",
    "leftbraceIndexList = findIndexes(bibData, '{')\n",
    "rightbraceIndexList = findIndexes(bibData, '}')\n",
    "leftbraceIndexList[:20]"
   ]
  },
  {
   "cell_type": "code",
   "execution_count": 6,
   "id": "9d7128cc",
   "metadata": {},
   "outputs": [
    {
     "data": {
      "text/plain": [
       "[112,\n",
       " 124,\n",
       " 140,\n",
       " 302,\n",
       " 355,\n",
       " 367,\n",
       " 378,\n",
       " 396,\n",
       " 413,\n",
       " 462,\n",
       " 493,\n",
       " 509,\n",
       " 515,\n",
       " 668,\n",
       " 680,\n",
       " 696,\n",
       " 853,\n",
       " 895,\n",
       " 908,\n",
       " 920]"
      ]
     },
     "execution_count": 6,
     "metadata": {},
     "output_type": "execute_result"
    }
   ],
   "source": [
    "rightbraceIndexList[:20]"
   ]
  },
  {
   "cell_type": "code",
   "execution_count": 7,
   "id": "013fd669",
   "metadata": {},
   "outputs": [
    {
     "data": {
      "text/plain": [
       "array([0, 0, 0, ..., 2, 1, 0])"
      ]
     },
     "execution_count": 7,
     "metadata": {},
     "output_type": "execute_result"
    }
   ],
   "source": [
    "nestLevel = np.zeros(len(bibData), dtype=np.int32)\n",
    "for i in leftbraceIndexList:\n",
    "    nestLevel[i:] += 1\n",
    "for i in rightbraceIndexList:\n",
    "    nestLevel[i:] -= 1\n",
    "nestLevel"
   ]
  },
  {
   "cell_type": "code",
   "execution_count": 8,
   "id": "8c9e6cb7",
   "metadata": {},
   "outputs": [
    {
     "data": {
      "text/plain": [
       "array([0, 0, 0, 0, 0, 0, 0, 0, 1, 1, 1, 1, 1, 1, 1, 1, 1, 1, 1, 1])"
      ]
     },
     "execution_count": 8,
     "metadata": {},
     "output_type": "execute_result"
    }
   ],
   "source": [
    "nestLevel[:20]"
   ]
  },
  {
   "cell_type": "code",
   "execution_count": 9,
   "id": "deb467a5",
   "metadata": {},
   "outputs": [
    {
     "data": {
      "text/plain": [
       "array([  515,  1036,  1478,  1824,  2278,  2676,  4027,  4473,  4910,\n",
       "        5270,  5740,  5918,  6047,  6386,  6489,  6666,  7078,  7504,\n",
       "        7970,  8412,  8553,  9033,  9395,  9829, 10245, 10399, 10820,\n",
       "       11251, 11689, 11893, 12174, 12643, 13089, 13385, 14579, 15054,\n",
       "       15561, 15972, 16417, 16914, 17393, 17567, 17944, 18418, 18566,\n",
       "       19137, 19599, 20086, 20565, 20688, 20953, 21372, 21924, 22317,\n",
       "       22782, 23251, 23617, 23969, 24257, 24645, 25108, 25609, 26094,\n",
       "       26500, 26930, 27057, 27470, 27705, 27907, 28081, 28433, 28884,\n",
       "       29092, 29445, 29923, 30329, 30712, 31037, 31511, 31580, 32104,\n",
       "       32487, 32644, 33074, 33452, 33921, 34372, 34788, 35230, 35670,\n",
       "       36103, 36654, 37154, 37369, 37555, 38008, 38543, 38884, 39397,\n",
       "       39704, 40353, 40602, 41023, 41417, 41862, 42387, 42792, 43399,\n",
       "       43908, 44380, 44720, 45227, 45662, 46189, 46633, 46821, 47233,\n",
       "       47594, 48153, 48584, 49080, 49566, 50034, 50837, 51198, 51584,\n",
       "       52074, 52618, 53089, 53551, 53988, 54599, 55256, 55761, 56123,\n",
       "       56467, 56898, 57304, 57747, 58058, 58502, 58882, 59494])"
      ]
     },
     "execution_count": 9,
     "metadata": {},
     "output_type": "execute_result"
    }
   ],
   "source": [
    "rightbraceNestLevel = nestLevel[rightbraceIndexList]\n",
    "rightbraceRootLevelIndexList = np.array(rightbraceIndexList)[np.where(rightbraceNestLevel == 0)[0]]\n",
    "rightbraceRootLevelIndexList"
   ]
  },
  {
   "cell_type": "code",
   "execution_count": 10,
   "id": "de42c9b8",
   "metadata": {},
   "outputs": [
    {
     "name": "stdout",
     "output_type": "stream",
     "text": [
      "@article{RefWorks:RefID:170-isegawa2016ionization,author={Miho Isegawa and Frank Neese and Dimitrios A. Pantazis},year={2016},month={May 10,},title={Ionization Energies and Aqueous Redox Potentials of Organic Molecules: Comparison of DFT, Correlated ab Initio Theory and Pair Natural Orbital Approaches},journal={Journal of chemical theory and computation},volume={12},number={5},pages={2272-2284},isbn={1549-9618},url={http://dx.doi.org/10.1021/acs.jctc.6b00252},doi={10.1021/acs.jctc.6b00252},pmid={27065224},    }\n",
      "----------------------------\n",
      "@article{RefWorks:RefID:169-boruah2017assessment,author={Abhijit Boruah and Manash Protim Borpuzari and Yukio Kawashima and Kimihiko Hirao and Rahul Kar},year={2017},month={Apr 28,},title={Assessment of range-separated functionals in the presence of implicit solvent: Computation of oxidation energy, reduction energy, and orbital energy},journal={The Journal of chemical physics},volume={146},number={16},pages={164102},isbn={0021-9606},url={http://dx.doi.org/10.1063/1.4981529},doi={10.1063/1.4981529},pmid={28456213},}\n",
      "----------------------------\n",
      "@article{RefWorks:RefID:168-fujiki2021recent,author={Ryo Fujiki and Toru Matsui and Yasuteru Shigeta and Haruyuki Nakano and Norio Yoshida},year={2021},month={Dec 10,},title={Recent Developments of Computational Methods for pKa Prediction Based on Electronic Structure Theory with Solvation Models},journal={J},volume={4},number={4},pages={849-864},isbn={2571-8800},url={https://search.proquest.com/docview/2612786628},doi={10.3390/j4040058}}\n",
      "----------------------------\n",
      "@article{RefWorks:RefID:167-rossini2016proton,author={Emanuele Rossini and Ernst-Walter Knapp},year={2016},month={May 5,},title={Proton solvation in protic and aprotic solvents},journal={Journal of computational chemistry},volume={37},number={12},pages={1082-1091},isbn={0192-8651},url={https://doi.org/10.1002/jcc.24297},doi={10.1002/jcc.24297}}\n",
      "----------------------------\n",
      "@article{RefWorks:RefID:166-mori2018recent,author={Seiji Mori},year={2018},month={Nov 30,},title={Recent Advances for Reaction Mechanisms of Metal-Catalyzed Activations of Carbon-Containing Bonds with the Aid of Density Functional Calculations},journal={Bulletin of Japan Society of Coordination Chemistry},volume={72},pages={15-29},isbn={1882-6954},url={https://www.jstage.jst.go.jp/article/bjscc/72/0/72_15/_article/-char/en},doi={10.4019/bjscc.72.15}}\n",
      "----------------------------\n"
     ]
    }
   ],
   "source": [
    "start = 0\n",
    "for i in range(5):\n",
    "    end = rightbraceRootLevelIndexList[i]+1\n",
    "    print(bibData[start:end])\n",
    "    print('----------------------------')\n",
    "    start = end"
   ]
  },
  {
   "cell_type": "code",
   "execution_count": 11,
   "id": "b9cf873b",
   "metadata": {},
   "outputs": [],
   "source": [
    "def __convertBibEntryToDict(entryStr, nestLevel):\n",
    "    if len(entryStr) != len(nestLevel):\n",
    "        raise ValueError('lengths of two arrays didnot match.')\n",
    "    \n",
    "    commaIndexList = findIndexes(entryStr, ',')\n",
    "    newlinecommaIndexList = np.array(commaIndexList)[np.where(nestLevel[commaIndexList] == 1)[0]]\n",
    "    linedata = []\n",
    "    start = 0\n",
    "    for end in newlinecommaIndexList:\n",
    "        linedata.append(entryStr[start:end])\n",
    "        start = end + 1 \n",
    "    linedata.append(entryStr[start:-1])\n",
    "    # start と -1が同じ位置になる場合(***},}等、最後に余計に','が入っていた場合、空文字になる)\n",
    "    # -> 後で取り除く\n",
    "    \"\"\"linedata==\n",
    "    ['@article{RefWorks:RefID:204-palmer2010universal',\n",
    "     'author={David S. Palmer and Andrey I. Frolov and Ekaterina L. Ratkova and Maxim V. Fedorov}',\n",
    "     'year={2010}',\n",
    "     'month={Dec 15,}',\n",
    "     'title={Towards a universal method for calculating hydration free energies: a 3D reference interaction site model with partial molar volume correction}',\n",
    "     'journal={Journal of physics. Condensed matter}',\n",
    "     'volume={22}',\n",
    "     'number={49}',\n",
    "     'pages={492101}',\n",
    "     'note={3D-RISM/KH?による溶媒和エネルギーは実験値に対して17.3kcal/mol過大評価した。その誤差はモル体積と強い相関があることが示される}',\n",
    "     'abstract={We report a simple universal method to systematically improve the accuracy of hydration free energies calculated using an integral equation theory of molecular liquids, the 3D reference interaction site model. A strong linear correlation is observed between the difference of the experimental and (uncorrected) calculated hydration free energies and the calculated partial molar volume for a data set of 185 neutral organic molecules from different chemical classes. By using the partial molar volume as a linear empirical correction to the calculated hydration free energy, we obtain predictions of hydration free energies in excellent agreement with experiment (R = 0.94, σ = 0.99\\xa0kcal\\xa0mol (- 1) for a test set of 120 organic molecules).}',\n",
    "     'isbn={0953-8984}',\n",
    "     'url={http://iopscience.iop.org/0953-8984/22/49/492101}',\n",
    "     'doi={10.1088/0953-8984/22/49/492101}']\n",
    "    \"\"\"\n",
    "    # 1行目は'{'でsplit\n",
    "    # 2行目以降は'='でsplit\n",
    "    # 行頭、行末、区切り文字前後の空白は取り除いておく\n",
    "    splitlinedata = [0] * len(linedata)\n",
    "    splitlinedata[0] = re.split(' *{ *', re.sub('^ +','', re.sub(' +$','', linedata[0])))\n",
    "    for i in range(1, len(linedata)):\n",
    "        # サイズ2固定でsplit\n",
    "        splitlinedata[i] = re.split(' *= *', re.sub('^ +','', re.sub(' +$','', linedata[i])), 1)\n",
    "    \n",
    "    # チェック\n",
    "    # 1行目は\n",
    "    # - 2要素でなければならない\n",
    "    # - 1要素目は'@'から始まらなければならない\n",
    "    # 2行目以降は\n",
    "    # - 2要素が正常\n",
    "    # - 1要素の場合空文字(もしくは空白文字の連続(ただしsplit時に空文字に変換済み))でなければならない(その場合はlistから除外する)\n",
    "    # - 2要素目が'{}'で囲まれている場合は'{}'を外す\n",
    "    dropList = []\n",
    "    for i, l in enumerate(splitlinedata):\n",
    "        if i == 0:\n",
    "            if len(l) != 2:\n",
    "                raise ValueError('not 2 elements')\n",
    "            if not l[0].startswith('@'):\n",
    "                raise ValueError('not start with @')\n",
    "        else:\n",
    "            if len(l) == 2:\n",
    "                if l[1].startswith('{'):\n",
    "                    l[1] = l[1][1:-1]\n",
    "                continue\n",
    "            elif len(l) == 1:\n",
    "                if l[0] == '':\n",
    "                    dropList.append(i)\n",
    "                else:\n",
    "                    raise ValueError('failed to parse: {}'.format(l[0]))\n",
    "            else:\n",
    "                # 基本的にあり得ない(split('=',1)のため)\n",
    "                pass\n",
    "    \n",
    "    # 空文字の行は除去\n",
    "    splitlinedata = [l for i,l in enumerate(splitlinedata) if i not in dropList]\n",
    "    # 1行目の'@'を除去\n",
    "    splitlinedata[0][0] = splitlinedata[0][0][1:]\n",
    "    \n",
    "    # 辞書型に変換\n",
    "    entryDict = dict(splitlinedata[1:])\n",
    "    entryDict['entry'] = splitlinedata[0][0]\n",
    "    entryDict['id'] = splitlinedata[0][1]\n",
    "    \n",
    "    return entryDict\n",
    "    \n",
    "def convertBibDataToBibEntryList():\n",
    "    entryList = []\n",
    "    start = 0\n",
    "    for end in rightbraceRootLevelIndexList:\n",
    "        end += 1\n",
    "        __bibData = bibData[start:end]\n",
    "        __nestLevel = nestLevel[start:end]\n",
    "        entryList.append(__convertBibEntryToDict(__bibData, __nestLevel))\n",
    "        start = end\n",
    "    \n",
    "    return entryList"
   ]
  },
  {
   "cell_type": "code",
   "execution_count": 12,
   "id": "91c142c0",
   "metadata": {},
   "outputs": [],
   "source": [
    "entryList = convertBibDataToBibEntryList()"
   ]
  },
  {
   "cell_type": "code",
   "execution_count": 13,
   "id": "b0b41e8d",
   "metadata": {},
   "outputs": [
    {
     "data": {
      "text/plain": [
       "[{'author': 'Miho Isegawa and Frank Neese and Dimitrios A. Pantazis',\n",
       "  'year': '2016',\n",
       "  'month': 'May 10,',\n",
       "  'title': 'Ionization Energies and Aqueous Redox Potentials of Organic Molecules: Comparison of DFT, Correlated ab Initio Theory and Pair Natural Orbital Approaches',\n",
       "  'journal': 'Journal of chemical theory and computation',\n",
       "  'volume': '12',\n",
       "  'number': '5',\n",
       "  'pages': '2272-2284',\n",
       "  'isbn': '1549-9618',\n",
       "  'url': 'http://dx.doi.org/10.1021/acs.jctc.6b00252',\n",
       "  'doi': '10.1021/acs.jctc.6b00252',\n",
       "  'pmid': '27065224',\n",
       "  'entry': 'article',\n",
       "  'id': 'RefWorks:RefID:170-isegawa2016ionization'},\n",
       " {'author': 'Abhijit Boruah and Manash Protim Borpuzari and Yukio Kawashima and Kimihiko Hirao and Rahul Kar',\n",
       "  'year': '2017',\n",
       "  'month': 'Apr 28,',\n",
       "  'title': 'Assessment of range-separated functionals in the presence of implicit solvent: Computation of oxidation energy, reduction energy, and orbital energy',\n",
       "  'journal': 'The Journal of chemical physics',\n",
       "  'volume': '146',\n",
       "  'number': '16',\n",
       "  'pages': '164102',\n",
       "  'isbn': '0021-9606',\n",
       "  'url': 'http://dx.doi.org/10.1063/1.4981529',\n",
       "  'doi': '10.1063/1.4981529',\n",
       "  'pmid': '28456213',\n",
       "  'entry': 'article',\n",
       "  'id': 'RefWorks:RefID:169-boruah2017assessment'},\n",
       " {'author': 'Ryo Fujiki and Toru Matsui and Yasuteru Shigeta and Haruyuki Nakano and Norio Yoshida',\n",
       "  'year': '2021',\n",
       "  'month': 'Dec 10,',\n",
       "  'title': 'Recent Developments of Computational Methods for pKa Prediction Based on Electronic Structure Theory with Solvation Models',\n",
       "  'journal': 'J',\n",
       "  'volume': '4',\n",
       "  'number': '4',\n",
       "  'pages': '849-864',\n",
       "  'isbn': '2571-8800',\n",
       "  'url': 'https://search.proquest.com/docview/2612786628',\n",
       "  'doi': '10.3390/j4040058',\n",
       "  'entry': 'article',\n",
       "  'id': 'RefWorks:RefID:168-fujiki2021recent'},\n",
       " {'author': 'Emanuele Rossini and Ernst-Walter Knapp',\n",
       "  'year': '2016',\n",
       "  'month': 'May 5,',\n",
       "  'title': 'Proton solvation in protic and aprotic solvents',\n",
       "  'journal': 'Journal of computational chemistry',\n",
       "  'volume': '37',\n",
       "  'number': '12',\n",
       "  'pages': '1082-1091',\n",
       "  'isbn': '0192-8651',\n",
       "  'url': 'https://doi.org/10.1002/jcc.24297',\n",
       "  'doi': '10.1002/jcc.24297',\n",
       "  'entry': 'article',\n",
       "  'id': 'RefWorks:RefID:167-rossini2016proton'},\n",
       " {'author': 'Seiji Mori',\n",
       "  'year': '2018',\n",
       "  'month': 'Nov 30,',\n",
       "  'title': 'Recent Advances for Reaction Mechanisms of Metal-Catalyzed Activations of Carbon-Containing Bonds with the Aid of Density Functional Calculations',\n",
       "  'journal': 'Bulletin of Japan Society of Coordination Chemistry',\n",
       "  'volume': '72',\n",
       "  'pages': '15-29',\n",
       "  'isbn': '1882-6954',\n",
       "  'url': 'https://www.jstage.jst.go.jp/article/bjscc/72/0/72_15/_article/-char/en',\n",
       "  'doi': '10.4019/bjscc.72.15',\n",
       "  'entry': 'article',\n",
       "  'id': 'RefWorks:RefID:166-mori2018recent'}]"
      ]
     },
     "execution_count": 13,
     "metadata": {},
     "output_type": "execute_result"
    }
   ],
   "source": [
    "entryList[:5]"
   ]
  },
  {
   "cell_type": "code",
   "execution_count": null,
   "id": "13f1ce94",
   "metadata": {},
   "outputs": [],
   "source": []
  }
 ],
 "metadata": {
  "kernelspec": {
   "display_name": "Python 3",
   "language": "python",
   "name": "python3"
  },
  "language_info": {
   "codemirror_mode": {
    "name": "ipython",
    "version": 3
   },
   "file_extension": ".py",
   "mimetype": "text/x-python",
   "name": "python",
   "nbconvert_exporter": "python",
   "pygments_lexer": "ipython3",
   "version": "3.7.10"
  }
 },
 "nbformat": 4,
 "nbformat_minor": 5
}
